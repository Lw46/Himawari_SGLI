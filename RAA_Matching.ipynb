{
 "cells": [
  {
   "cell_type": "code",
   "execution_count": 14,
   "metadata": {},
   "outputs": [],
   "source": [
    "import numpy as np\n",
    "import cv2"
   ]
  },
  {
   "cell_type": "code",
   "execution_count": null,
   "metadata": {},
   "outputs": [],
   "source": [
    "Sensor_azimuth',  'Sensor_azimuth_PL', 'Sensor_zenith', 'Sensor_zenith_IR', 'Sensor_zenith_PL', 'Solar_azimuth', 'Solar_azimuth_PL', 'Solar_zenith', 'Solar_zenith_PL']>"
   ]
  },
  {
   "cell_type": "code",
   "execution_count": 12,
   "metadata": {
    "collapsed": true
   },
   "outputs": [
    {
     "name": "stderr",
     "output_type": "stream",
     "text": [
      "<ipython-input-12-ac232d6729d7>:3: DeprecationWarning: The binary mode of fromstring is deprecated, as it behaves surprisingly on unicode inputs. Use frombuffer instead\n",
      "  SGLI_VAA = np.fromstring(fp.read(),dtype='f4').reshape(6000, 6000)\n",
      "<ipython-input-12-ac232d6729d7>:5: DeprecationWarning: The binary mode of fromstring is deprecated, as it behaves surprisingly on unicode inputs. Use frombuffer instead\n",
      "  SGLI_VZA = np.fromstring(fp.read(),dtype='f4').reshape(6000, 6000)\n",
      "<ipython-input-12-ac232d6729d7>:8: DeprecationWarning: The binary mode of fromstring is deprecated, as it behaves surprisingly on unicode inputs. Use frombuffer instead\n",
      "  SGLI_SAA = np.fromstring(fp.read(),dtype='f4').reshape(6000, 6000)\n",
      "<ipython-input-12-ac232d6729d7>:10: DeprecationWarning: The binary mode of fromstring is deprecated, as it behaves surprisingly on unicode inputs. Use frombuffer instead\n",
      "  SGLI_SZA = np.fromstring(fp.read(),dtype='f4').reshape(6000, 6000)\n",
      "<ipython-input-12-ac232d6729d7>:15: DeprecationWarning: The binary mode of fromstring is deprecated, as it behaves surprisingly on unicode inputs. Use frombuffer instead\n",
      "  SGLI_VAA_PL = np.fromstring(fp.read(),dtype='f4').reshape(6000, 6000)\n",
      "<ipython-input-12-ac232d6729d7>:17: DeprecationWarning: The binary mode of fromstring is deprecated, as it behaves surprisingly on unicode inputs. Use frombuffer instead\n",
      "  SGLI_VZA_PL = np.fromstring(fp.read(),dtype='f4').reshape(6000, 6000)\n",
      "<ipython-input-12-ac232d6729d7>:20: DeprecationWarning: The binary mode of fromstring is deprecated, as it behaves surprisingly on unicode inputs. Use frombuffer instead\n",
      "  SGLI_SAA_PL = np.fromstring(fp.read(),dtype='f4').reshape(6000, 6000)\n",
      "<ipython-input-12-ac232d6729d7>:22: DeprecationWarning: The binary mode of fromstring is deprecated, as it behaves surprisingly on unicode inputs. Use frombuffer instead\n",
      "  SGLI_SZA_PL = np.fromstring(fp.read(),dtype='f4').reshape(6000, 6000)\n",
      "<ipython-input-12-ac232d6729d7>:27: DeprecationWarning: The binary mode of fromstring is deprecated, as it behaves surprisingly on unicode inputs. Use frombuffer instead\n",
      "  SGLI_Rs_VN04 = np.fromstring(fp.read(),dtype='f4').reshape(6000, 6000)\n"
     ]
    }
   ],
   "source": [
    "# import SGLI data\n",
    "with open('/media/liwei/Data/GCOM-C_RSRF/Sensor_azimuth/20220107/Sensor_azimuth_20220107.dat','rb') as fp:      \n",
    "    SGLI_VAA = np.fromstring(fp.read(),dtype='f4').reshape(6000, 6000)\n",
    "with open('/media/liwei/Data/GCOM-C_RSRF/Sensor_zenith/20220107/Sensor_zenith_20220107.dat','rb') as fp:      \n",
    "    SGLI_VZA = np.fromstring(fp.read(),dtype='f4').reshape(6000, 6000)\n",
    "    \n",
    "with open('/media/liwei/Data/GCOM-C_RSRF/Solar_azimuth/20220107/Solar_azimuth_20220107.dat','rb') as fp:      \n",
    "    SGLI_SAA = np.fromstring(fp.read(),dtype='f4').reshape(6000, 6000)\n",
    "with open('/media/liwei/Data/GCOM-C_RSRF/Solar_zenith/20220107/Solar_zenith_20220107.dat','rb') as fp:      \n",
    "    SGLI_SZA = np.fromstring(fp.read(),dtype='f4').reshape(6000, 6000)\n",
    "    \n",
    "# PL\n",
    "\n",
    "with open('/media/liwei/Data/GCOM-C_RSRF/Sensor_azimuth_PL/20220107/Sensor_azimuth_PL_20220107.dat','rb') as fp:      \n",
    "    SGLI_VAA_PL = np.fromstring(fp.read(),dtype='f4').reshape(6000, 6000)\n",
    "with open('/media/liwei/Data/GCOM-C_RSRF/Sensor_zenith_PL/20220107/Sensor_zenith_PL_20220107.dat','rb') as fp:      \n",
    "    SGLI_VZA_PL = np.fromstring(fp.read(),dtype='f4').reshape(6000, 6000)\n",
    "    \n",
    "with open('/media/liwei/Data/GCOM-C_RSRF/Solar_azimuth_PL/20220107/Solar_azimuth_PL_20220107.dat','rb') as fp:      \n",
    "    SGLI_SAA_PL = np.fromstring(fp.read(),dtype='f4').reshape(6000, 6000)\n",
    "with open('/media/liwei/Data/GCOM-C_RSRF/Solar_zenith_PL/20220107/Solar_zenith_PL_20220107.dat','rb') as fp:      \n",
    "    SGLI_SZA_PL = np.fromstring(fp.read(),dtype='f4').reshape(6000, 6000)\n",
    "    \n",
    "    \n",
    "# Reflectance\n",
    "with open('/media/liwei/Data/GCOM-C_RSRF/Rs_VN04/20220107/Rs_VN04_20220107.dat','rb') as fp:      \n",
    "    SGLI_Rs_VN04 = np.fromstring(fp.read(),dtype='f4').reshape(6000, 6000)"
   ]
  },
  {
   "cell_type": "code",
   "execution_count": 13,
   "metadata": {},
   "outputs": [
    {
     "name": "stderr",
     "output_type": "stream",
     "text": [
      "<ipython-input-13-2f85b90d9fb5>:3: DeprecationWarning: The binary mode of fromstring is deprecated, as it behaves surprisingly on unicode inputs. Use frombuffer instead\n",
      "  AHI_VZA = np.fromstring(fp.read()).reshape(6000,6000)\n",
      "<ipython-input-13-2f85b90d9fb5>:5: DeprecationWarning: The binary mode of fromstring is deprecated, as it behaves surprisingly on unicode inputs. Use frombuffer instead\n",
      "  AHI_VAA = np.fromstring(fp.read()).reshape(6000,6000)\n"
     ]
    }
   ],
   "source": [
    "# import AHI\n",
    "with open('view_zM_JAPAN_05.dat','rb') as fp:\n",
    "    AHI_VZA = np.fromstring(fp.read()).reshape(6000,6000) \n",
    "with open('view_aM_JAPAN_05.dat','rb') as fp:\n",
    "    AHI_VAA = np.fromstring(fp.read()).reshape(6000,6000)  \n",
    "    \n",
    "    \n",
    "# Solar angle                    \n",
    "# with open('.dat','rb') as fp:\n",
    "#     Solar_zM = np.fromstring(fp.read()).reshape(3000,3000) \n",
    "# with open('dat','rb') as fp:\n",
    "#     Solar_aM = np.fromstring(fp.read()).reshape(3000,3000) \n",
    "\n",
    "# # Solar angle down sampling\n",
    "# Solar_aM=cv2.resize(np.array(Solar_aM),(6000,6000),interpolation=cv2.INTER_NEAREST)\n",
    "# Solar_zM=cv2.resize(np.array(Solar_zM),(6000,6000),interpolation=cv2.INTER_NEAREST)    \n"
   ]
  },
  {
   "cell_type": "code",
   "execution_count": null,
   "metadata": {},
   "outputs": [],
   "source": []
  }
 ],
 "metadata": {
  "kernelspec": {
   "display_name": "Python 3",
   "language": "python",
   "name": "python3"
  },
  "language_info": {
   "codemirror_mode": {
    "name": "ipython",
    "version": 3
   },
   "file_extension": ".py",
   "mimetype": "text/x-python",
   "name": "python",
   "nbconvert_exporter": "python",
   "pygments_lexer": "ipython3",
   "version": "3.8.10"
  }
 },
 "nbformat": 4,
 "nbformat_minor": 4
}
