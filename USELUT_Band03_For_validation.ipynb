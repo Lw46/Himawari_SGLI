{
 "cells": [
  {
   "cell_type": "code",
   "execution_count": 1,
   "id": "312c0eff",
   "metadata": {},
   "outputs": [],
   "source": [
    "import numpy as np\n",
    "from Py6S import *\n",
    "import time as T\n",
    "from joblib import Parallel, delayed\n",
    "from scipy.interpolate import griddata,interpn,RegularGridInterpolator\n",
    "import math\n",
    "import os\n",
    "import datetime\n",
    "import cv2\n",
    "from ftplib import FTP\n",
    "import xarray as xr\n",
    "import multiprocessing\n",
    "import paramiko\n",
    "from scp import SCPClient\n",
    "import ephem"
   ]
  },
  {
   "cell_type": "code",
   "execution_count": 8,
   "id": "29574610",
   "metadata": {},
   "outputs": [],
   "source": [
    "from decimal import Decimal, ROUND_HALF_UP\n",
    "def dms2deg(dms):\n",
    "    h = dms[0]\n",
    "    m = dms[1]\n",
    "    s = dms[2]\n",
    "    deg = Decimal(str(h + (m / 60) + (s / 3600))).quantize(Decimal('0.0001'), rounding=ROUND_HALF_UP)\n",
    "    return deg"
   ]
  },
  {
   "cell_type": "code",
   "execution_count": 10,
   "id": "ec23139a",
   "metadata": {
    "scrolled": true
   },
   "outputs": [
    {
     "data": {
      "text/plain": [
       "Decimal('137.4231')"
      ]
     },
     "execution_count": 10,
     "metadata": {},
     "output_type": "execute_result"
    }
   ],
   "source": [
    "dms2deg((137,25,23.2))"
   ]
  },
  {
   "cell_type": "code",
   "execution_count": 25,
   "id": "e1fb59f7",
   "metadata": {},
   "outputs": [],
   "source": []
  },
  {
   "cell_type": "code",
   "execution_count": 43,
   "id": "216840e8",
   "metadata": {
    "scrolled": true
   },
   "outputs": [
    {
     "data": {
      "text/plain": [
       "3484"
      ]
     },
     "execution_count": 43,
     "metadata": {},
     "output_type": "execute_result"
    }
   ],
   "source": [
    "int((50 - 36.1462)/0.005)\n",
    "int((137.4231 - 120)/0.005)"
   ]
  },
  {
   "cell_type": "code",
   "execution_count": 40,
   "id": "b60b5f13",
   "metadata": {},
   "outputs": [
    {
     "data": {
      "text/plain": [
       "array([120.005, 120.015, 120.025, ..., 149.975, 149.985, 149.995])"
      ]
     },
     "execution_count": 40,
     "metadata": {},
     "output_type": "execute_result"
    }
   ],
   "source": [
    "np.linspace(120+0.01/2, 150-0.01/2, 3000)"
   ]
  },
  {
   "cell_type": "code",
   "execution_count": null,
   "id": "0b5fa8a0",
   "metadata": {},
   "outputs": [],
   "source": [
    "36.1462,137.4231"
   ]
  },
  {
   "cell_type": "code",
   "execution_count": null,
   "id": "15cc3bd6",
   "metadata": {},
   "outputs": [],
   "source": [
    "def findtarget(a,target):\n",
    "    left = 0\n",
    "    right = len(a) - 1\n",
    "    mid = len(a)/2\n",
    "    \n",
    "    while left == right:\n",
    "        if "
   ]
  },
  {
   "cell_type": "code",
   "execution_count": 7,
   "id": "7430174e",
   "metadata": {},
   "outputs": [],
   "source": [
    "# Before using this, you need to set some input path.\n",
    "# set your account at def download_AOT\n",
    "# Set input Viewer zenith angle data path\n",
    "# Set input Solar zenith angle data path\n",
    "# Set input LUT path\n",
    "# Set input Atmosphere data path\n",
    "# Set date and target(save path)\n",
    "# Atmospheric correction block is used for calculate SR\n",
    "# Angle date and Atmosphere data will be upload to server later\n",
    "\n",
    "\n",
    "\n",
    "\n",
    "#Set date and path\n",
    "YYYY = '2019'\n",
    "MM = ['05']\n",
    "DD = ['07']\n",
    "MIN = ['20']\n",
    "HH = ['06']\n",
    "\n",
    "target ='/media/liwei/Data/AHI_AC_RESULT/'\n",
    "SZA_path = '/media/liwei/Data/AHI_Angle/Solar_zenith_angle/'\n",
    "SAZ_path = '/media/liwei/Data/AHI_Angle/Solar_azimuth_angle/'\n",
    "VZA_path = '/media/liwei/Data/AHI_Angle/Viewer_angle/view_zM_JAPAN_05.dat'\n",
    "VAZ_path = '/media/liwei/Data/AHI_Angle/Viewer_angle/view_aM_JAPAN_05.dat'\n",
    "LUT_path = '/media/liwei/Data/LUT/'\n",
    "ATMOS_path = '/media/liwei/Data/CAMS/'\n",
    "site_name = 'TKY'\n",
    "Validation_site = int((50 - 36.1462)/0.005),int((137.4231 - 120)/0.005)\n"
   ]
  },
  {
   "cell_type": "code",
   "execution_count": 3,
   "id": "bb1c93c3",
   "metadata": {},
   "outputs": [
    {
     "name": "stderr",
     "output_type": "stream",
     "text": [
      "/tmp/ipykernel_459799/3893948259.py:170: DeprecationWarning: The binary mode of fromstring is deprecated, as it behaves surprisingly on unicode inputs. Use frombuffer instead\n",
      "  view_zM = np.fromstring(fp.read()).reshape(6000,6000)[Validation_site]\n",
      "/tmp/ipykernel_459799/3893948259.py:172: DeprecationWarning: The binary mode of fromstring is deprecated, as it behaves surprisingly on unicode inputs. Use frombuffer instead\n",
      "  view_aM = np.fromstring(fp.read()).reshape(6000,6000)[Validation_site]\n"
     ]
    }
   ],
   "source": [
    "sza = np.linspace(0,80,17)\n",
    "vza = np.linspace(0,80,17)\n",
    "water = np.linspace(0,7,8)\n",
    "ozone = np.linspace(0.2,0.4,5)\n",
    "AOT = np.array([0.01,0.05,0.1,0.15,0.2,0.3,0.4,0.6,0.8,1.0,1.5,2.0]) \n",
    "raa = np.linspace(0,180,19)\n",
    "\n",
    "\n",
    "\n",
    "\n",
    "   \n",
    "class read_H8data:\n",
    "\n",
    "    def __init__(self, band, band_number):\n",
    "        self.band = band\n",
    "        self.band_number = band_number\n",
    "\n",
    "    def get_path(self, date):\n",
    "        return '/mnt/nas01G/geo01/H8AHI/download/org/192.168.1.5/gridded/FD/V20190123/' + date[0:6] + '/' +                self.band.upper() + '/'\n",
    "\n",
    "    def get_filename(self):\n",
    "        return self.band + \".\" + self.band_number + \".fld.geoss.bz2\"\n",
    "\n",
    "\n",
    "def file_path(band_num, date):\n",
    "    return read_H8data.get_path(BAND[band_num - 1], date) + date + \".\" + read_H8data.get_filename(BAND[band_num - 1])\n",
    "\n",
    "\n",
    "def Hi8_band():\n",
    "    b01 = read_H8data('vis', '01');\n",
    "    b02 = read_H8data('vis', '02');\n",
    "    b03 = read_H8data('ext', '01');\n",
    "    b04 = read_H8data('vis', '03')\n",
    "    b05 = read_H8data('sir', '01');\n",
    "    b06 = read_H8data('sir', '02');\n",
    "    b07 = read_H8data('tir', '05');\n",
    "    b08 = read_H8data('tir', '06')\n",
    "    b09 = read_H8data('tir', '07');\n",
    "    b10 = read_H8data('tir', '08');\n",
    "    b11 = read_H8data('tir', '09');\n",
    "    b12 = read_H8data('tir', '10')\n",
    "    b13 = read_H8data('tir', '01');\n",
    "    b14 = read_H8data('tir', '02');\n",
    "    b15 = read_H8data('tir', '03');\n",
    "    b16 = read_H8data('tir', '04')\n",
    "    BAND = [b01, b02, b03, b04, b05, b06, b07, b08, b09, b10, b11, b12, b13, b14, b15, b16]\n",
    "    return BAND\n",
    "\n",
    "def download_H8data(date):\n",
    "    client = paramiko.SSHClient()\n",
    "    client.load_system_host_keys()\n",
    "    client.set_missing_host_key_policy(paramiko.AutoAddPolicy())\n",
    "    client.connect(hostname='10.4.200.105', port=22, username='liwei', password='liwei000')\n",
    "    scp = SCPClient(client.get_transport())\n",
    "    sftp = client.open_sftp()\n",
    "    \n",
    "    try :\n",
    "        sftp.stat(file_path(3, date))\n",
    "        \n",
    "    except FileNotFoundError:\n",
    "        print(\"File Not Found\")\n",
    "        pass\n",
    "    \n",
    "    else:\n",
    "        scp.get(file_path(3, date), folder_original+'/')\n",
    "        os.system('lbzip2 -d {}{}'.format(folder_original+'/',file_path(3, date)[-33:]))\n",
    "    \n",
    "def remove_original_file(path):\n",
    "    os.system('rm -rf {}'.format(path))\n",
    "    \n",
    "    \n",
    "def download_AOT(YYYY,MM,DD,HH,folder):\n",
    "    ftp_addr = 'ftp.ptree.jaxa.jp'\n",
    "    f=FTP(ftp_addr)\n",
    "    f.login('liwei1997_chiba-u.jp','SP+wari8')\n",
    "    remote_filepath = '/pub/model/ARP/MS/bet/'+YYYY+MM+'/'+DD+'/'\n",
    "    f.cwd(remote_filepath)\n",
    "    list=f.nlst()\n",
    "    bufsize=1024\n",
    "    for name in list:\n",
    "        if name[13:17]==HH+'00':\n",
    "            data=open(folder+'/'+name,'wb')\n",
    "            filename='RETR '+name\n",
    "            f.retrbinary(filename,data.write,bufsize)\n",
    "    f.quit()\n",
    "    \n",
    "def mkdir(path):\n",
    "    folder = os.path.exists(path) \n",
    "    if not folder:\n",
    "        os.makedirs(path)\n",
    "        \n",
    "def DN2tbb(dn):         \n",
    "    LUT=np.loadtxt('/media/liwei/Data/count2tbb_v102/ext.01')\n",
    "    return LUT[dn,1]\n",
    "\n",
    "\n",
    "def get_point():\n",
    "    A=[]\n",
    "    for i in range(len(vza)):\n",
    "        for j in range(len(sza)):\n",
    "            A.append(vza[i])\n",
    "            A.append(sza[j])\n",
    "    point=np.array(A).reshape(17*17,2)\n",
    "    return point\n",
    "\n",
    "def griddata_inter(X1,X2,X3,a,b,c,d):\n",
    "    X1_new_inter=[]\n",
    "    X2_new_inter=[]\n",
    "    X3_new_inter=[]\n",
    "    \n",
    "    X1_inter=X1[a,b,c,:,:,d].reshape(17*17,1)\n",
    "    X2_inter=X2[a,b,c,:,:,d].reshape(17*17,1)\n",
    "    X3_inter=X3[a,b,c,:,:,d].reshape(17*17,1)\n",
    "    \n",
    "    X1_new = griddata(point, X1_inter, (xi, yi), method='cubic')\n",
    "    X2_new = griddata(point, X2_inter, (xi, yi), method='cubic')\n",
    "    X3_new = griddata(point, X3_inter, (xi, yi), method='nearest')\n",
    "                \n",
    "    X1_new_inter.append(X1_new)\n",
    "    X2_new_inter.append(X2_new)\n",
    "    X3_new_inter.append(X3_new)\n",
    "    \n",
    "    del X1_inter,X2_inter,X3_inter,X1_new,X2_new,X3_new  \n",
    "    return X1_new_inter,X2_new_inter,X3_new_inter\n",
    "\n",
    "\n",
    "def ATMO_time(HH):\n",
    "    if int(HH)%3==0:\n",
    "        return HH\n",
    "    elif (int(HH)-1)%3==0:\n",
    "        return str(int(HH)-1).zfill(2)\n",
    "    elif int(HH)==23:\n",
    "        return str(21).zfill(2)\n",
    "    else:\n",
    "        return str(int(HH)+1).zfill(2)\n",
    "\n",
    "\n",
    "    \n",
    "\n",
    "def calc_sunpos(dtime,col,row):\n",
    "    \n",
    "    sun = ephem.Sun()\n",
    "    obs = ephem.Observer()\n",
    "    obs.date = dtime\n",
    "    obs.lat = lat_x[row]*math.pi/180.0\n",
    "    obs.long = lon_y[col]*math.pi/180.0\n",
    "    sun.compute(obs)\n",
    "    return np.degrees(sun.az),90.0-np.degrees(sun.alt)    \n",
    "    \n",
    "    \n",
    "def calculate_6s_band3():\n",
    "    WV_input=WV\n",
    "    OZ_input=OZ\n",
    "    AOT550_input=AOT550\n",
    "    RAA_input=RAA\n",
    "    SZA_input=Solar_zM\n",
    "    view_zM_input=view_zM\n",
    "    xi=np.array([WV_input,OZ_input,AOT550_input,RAA_input,SZA_input,view_zM_input])\n",
    "    xi=xi.T\n",
    "    xa=fn1(xi)\n",
    "    xb=fn2(xi)\n",
    "    xc=fn3(xi)\n",
    "    y = xa*data-xb\n",
    "    SR=y/(1+xc*y)\n",
    "    return SR\n",
    "\n",
    "\n",
    "# Viewer_zenith_angle\n",
    "with open(VZA_path,'rb') as fp:\n",
    "    view_zM = np.fromstring(fp.read()).reshape(6000,6000)[Validation_site]\n",
    "with open(VAZ_path,'rb') as fp:\n",
    "    view_aM = np.fromstring(fp.read()).reshape(6000,6000)[Validation_site]    \n",
    "\n",
    "# read LUT\n",
    "outfile1 = LUT_path + '01_band3.csv'\n",
    "outfile2 = LUT_path + '02_band3.csv'\n",
    "outfile3 = LUT_path + '03_band3.csv'\n",
    "X1 = np.loadtxt(outfile1,delimiter=\",\")\n",
    "X2 = np.loadtxt(outfile2,delimiter=\",\")\n",
    "X3 = np.loadtxt(outfile3,delimiter=\",\")\n",
    "    \n",
    "    \n",
    "# reshape LUT\n",
    "X1_reshape=X1.reshape(8,5,12,17,17,19)\n",
    "X2_reshape=X2.reshape(8,5,12,17,17,19)\n",
    "X3_reshape=X3.reshape(8,5,12,17,17,19)\n",
    "del X1,X2,X3\n",
    "\n",
    "# SZA,SAZ,VZA interpolation\n",
    "point=get_point()\n",
    "xi,yi=np.ogrid[0:80:161j, 0:80:161j]\n",
    "output = Parallel(n_jobs=-1)(delayed(griddata_inter)(X1_reshape,X2_reshape,X3_reshape,a,b,c,d)                             for a in range(len(water))                              for b in range(len(ozone))                              for c in range(len(AOT))                              for d in range(len(raa)))\n",
    "\n",
    "X1_new_inter_reshape=np.array(output)[:,0].reshape(8,5,12,19,161,161)\n",
    "X2_new_inter_reshape=np.array(output)[:,1].reshape(8,5,12,19,161,161)\n",
    "X3_new_inter_reshape=np.array(output)[:,2].reshape(8,5,12,19,161,161)\n",
    "\n",
    "del X1_reshape,X2_reshape,X3_reshape,output\n",
    "\n",
    "sza_new = np.linspace(0,80,161)\n",
    "vza_new = np.linspace(0,80,161)\n",
    "\n",
    "fn1 = RegularGridInterpolator((water,ozone,AOT,raa,sza_new,vza_new),X1_new_inter_reshape,bounds_error=False,fill_value=np.nan)  \n",
    "fn2 = RegularGridInterpolator((water,ozone,AOT,raa,sza_new,vza_new),X2_new_inter_reshape,bounds_error=False,fill_value=np.nan)  \n",
    "fn3 = RegularGridInterpolator((water,ozone,AOT,raa,sza_new,vza_new),X3_new_inter_reshape,bounds_error=False,fill_value=np.nan)\n",
    "\n",
    "lat_x=np.linspace(50,20,6000)\n",
    "lon_y=np.linspace(120,150,6000)\n",
    "\n",
    "BAND=Hi8_band()\n",
    "\n"
   ]
  },
  {
   "cell_type": "code",
   "execution_count": 8,
   "id": "69ba5739",
   "metadata": {
    "scrolled": true
   },
   "outputs": [
    {
     "name": "stdout",
     "output_type": "stream",
     "text": [
      "start processing 201905070620\n",
      "OZ,AOT,WV finish\n",
      "data download finsih\n",
      "data reading finish\n",
      "SZA,SAZ finish\n",
      "time: 10.7 secs, 0.2 mins,0.0 hours\n",
      "delete file finish\n"
     ]
    },
    {
     "name": "stderr",
     "output_type": "stream",
     "text": [
      "/tmp/ipykernel_459799/403711999.py:55: DeprecationWarning: The binary mode of fromstring is deprecated, as it behaves surprisingly on unicode inputs. Use frombuffer instead\n",
      "  data = np.fromstring(fp.read(),dtype='>u2').reshape(24000,24000)\n"
     ]
    }
   ],
   "source": [
    "# Atmospheric correction\n",
    "# Loop in input date\n",
    "for k in range(len(MM)):\n",
    "    for m in range(len(DD)):\n",
    "        for i in range(len(HH)):\n",
    "            for j in range(len(MIN)):\n",
    "                start_time=T.time()\n",
    "                date=YYYY+MM[k]+DD[m]+HH[i]+MIN[j]  \n",
    "                time=date[-4:]       \n",
    "                print(\"start processing {}\".format(date))\n",
    "                \n",
    "                \n",
    "                # make dir\n",
    "                folder_original = target+date+'_original'\n",
    "                folder_AC = target+date+'_AC'\n",
    "                mkdir(folder_original)\n",
    "                mkdir(folder_AC)\n",
    "            \n",
    "\n",
    "                \n",
    "                # Input Atmosphere data\n",
    "                ds_oz_wv = xr.open_dataset(ATMOS_path + YYYY + MM[k] + ATMO_time(HH[i]) + '.nc')\n",
    "                oz=ds_oz_wv['gtco3'][int(DD[m])-1,:,:]\n",
    "                OZ=oz.interp(longitude=lon_y,latitude=lat_x,method=\"nearest\")\n",
    "                OZ=OZ.values[Validation_site]\n",
    "                wv=ds_oz_wv['tcwv'][int(DD[m])-1,:,:]\n",
    "                WV=wv.interp(longitude=lon_y,latitude=lat_x,method=\"nearest\")\n",
    "                WV=WV.values[Validation_site]\n",
    "\n",
    "                \n",
    "                # download AOT and read AOT\n",
    "                download_AOT(YYYY,MM[k],DD[m],HH[i],folder_original)\n",
    "                ATMOS_data_s=T.time()\n",
    "                ds = xr.open_dataset(folder_original+'/H08_'+YYYY+MM[k]+DD[m]+'_'+HH[i]+'00_MSARPbet_ANL.00960_00480.nc')\n",
    "                aot550=ds['od550aer']\n",
    "                AOT550=aot550.interp(lon=lon_y,lat=lat_x,method=\"nearest\")\n",
    "                AOT550=AOT550.values[Validation_site]\n",
    "                \n",
    "                \n",
    "                del oz,wv,aot550,ds_oz_wv,ds\n",
    "                print(\"OZ,AOT,WV finish\")\n",
    "                \n",
    "                 \n",
    "                # Download Himawari8 data from server\n",
    "                download_H8data(date)\n",
    "                print(\"data download finsih\")\n",
    "                \n",
    "                \n",
    "                \n",
    "                # If file exist do atmosperic correction , else pass\n",
    "                if  os.path.exists(folder_original+'/'+date+'.ext.01.fld.geoss'):\n",
    "                    \n",
    "                    # read himawari8 file\n",
    "                    with open(folder_original+'/'+date+'.ext.01.fld.geoss','rb') as fp:\n",
    "                        data = np.fromstring(fp.read(),dtype='>u2').reshape(24000,24000)\n",
    "                        data=data[2000:8000,7000:13000]\n",
    "                        data = data[Validation_site]\n",
    "                        data=DN2tbb(data)\n",
    "                        data=data/100\n",
    "                        \n",
    "\n",
    "                    print(\"data reading finish\")\n",
    "                                        \n",
    "                    \n",
    "                    # Solar angle                    \n",
    "                    dtime = datetime.datetime(int(YYYY),int(MM[k]),int(DD[m]),int(HH[i]),int(MIN[j]))\n",
    "                    Solar_aM,Solar_zM = calc_sunpos(dtime,3000,3000)\n",
    "                        \n",
    "                    \n",
    "                    \n",
    "                    # Calculate RAA\n",
    "                    RAA = abs(Solar_aM-view_aM)\n",
    "                    if RAA > 180:\n",
    "                        RAA = 360 - RAA\n",
    "                    print(\"SZA,SAZ finish\")\n",
    "                    \n",
    "                    \n",
    "                    # Atmosphere data Unit conversion\n",
    "                    WV = WV/10\n",
    "                    OZ = OZ*46.6975764\n",
    "                    \n",
    "                    \n",
    "                    # Processing water vapor and ozone max and min\n",
    "                    \n",
    "                    if OZ >= max(ozone):\n",
    "                        OZ = max(ozone) - (1/10000)\n",
    "                    if OZ <= min(ozone):\n",
    "                        OZ = min(ozone) + (1/10000)\n",
    "                        \n",
    "                    if WV >= max(water):\n",
    "                        WV = max(water) - (1/10000)\n",
    "                    if OZ <= min(water):\n",
    "                        OZ = min(water) + (1/10000)\n",
    "                        \n",
    "                    if AOT550 >= max(AOT):\n",
    "                        AOT550 = max(AOT) - (1/10000)\n",
    "                    if AOT550 <= min(AOT):\n",
    "                        AOT550 = min(AOT) + (1/10000)\n",
    "                    \n",
    "\n",
    "                    \n",
    "                    # Using LUT\n",
    "                    SR = calculate_6s_band3()\n",
    "\n",
    "                \n",
    "                    # Save file and remove download input data\n",
    "                    #SR=np.array(SR).reshape(6000,6000)\n",
    "                    SR_file=open(folder_AC+'/'+date+'_b03_'+site_name+'.dat','wb')\n",
    "                    SR.astype('f4').tofile(SR_file)\n",
    "                    SR_file.close()\n",
    "                    remove_original_file(folder_original)\n",
    "                    end_time=T.time()\n",
    "                    TIME=end_time-start_time\n",
    "                    print('time: {:.1f} secs, {:.1f} mins,{:.1f} hours'.format(TIME,TIME/60,TIME/3600))\n",
    "                    print(\"delete file finish\")\n",
    "                else:\n",
    "                    print(\"file no exists\")\n",
    "                    pass"
   ]
  },
  {
   "cell_type": "code",
   "execution_count": 121,
   "id": "72007317",
   "metadata": {},
   "outputs": [],
   "source": [
    "nums = [False,False,False,True,True]\n"
   ]
  },
  {
   "cell_type": "code",
   "execution_count": 162,
   "id": "c239cca7",
   "metadata": {},
   "outputs": [],
   "source": [
    "\n",
    "nums = [1,2,3,4,5,6,7]"
   ]
  },
  {
   "cell_type": "code",
   "execution_count": 167,
   "id": "ca0a70e9",
   "metadata": {},
   "outputs": [],
   "source": [
    "def rotate(nums, k):\n",
    "    \"\"\"\n",
    "    Do not return anything, modify nums in-place instead.\n",
    "    \"\"\"\n",
    "    k = k % len(nums)\n",
    "    print(k)\n",
    "    nums[:] = nums[-k:] + nums[:-k]\n",
    "    print(nums)\n",
    "    #return nums"
   ]
  },
  {
   "cell_type": "code",
   "execution_count": 168,
   "id": "9947e869",
   "metadata": {},
   "outputs": [
    {
     "name": "stdout",
     "output_type": "stream",
     "text": [
      "3\n",
      "[2, 3, 4, 5, 6, 7, 1]\n"
     ]
    }
   ],
   "source": [
    "rotate(nums, 3)"
   ]
  },
  {
   "cell_type": "code",
   "execution_count": 164,
   "id": "f4092358",
   "metadata": {},
   "outputs": [
    {
     "data": {
      "text/plain": [
       "0"
      ]
     },
     "execution_count": 164,
     "metadata": {},
     "output_type": "execute_result"
    }
   ],
   "source": [
    "k"
   ]
  },
  {
   "cell_type": "code",
   "execution_count": 107,
   "id": "c8a3bf4f",
   "metadata": {},
   "outputs": [
    {
     "data": {
      "text/plain": [
       "1"
      ]
     },
     "execution_count": 107,
     "metadata": {},
     "output_type": "execute_result"
    }
   ],
   "source": [
    "2//2"
   ]
  },
  {
   "cell_type": "code",
   "execution_count": null,
   "id": "4c74c0af",
   "metadata": {},
   "outputs": [],
   "source": []
  }
 ],
 "metadata": {
  "kernelspec": {
   "display_name": "Python 3 (ipykernel)",
   "language": "python",
   "name": "python3"
  },
  "language_info": {
   "codemirror_mode": {
    "name": "ipython",
    "version": 3
   },
   "file_extension": ".py",
   "mimetype": "text/x-python",
   "name": "python",
   "nbconvert_exporter": "python",
   "pygments_lexer": "ipython3",
   "version": "3.8.10"
  }
 },
 "nbformat": 4,
 "nbformat_minor": 5
}
