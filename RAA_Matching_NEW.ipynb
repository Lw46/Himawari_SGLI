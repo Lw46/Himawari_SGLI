{
 "cells": [
  {
   "cell_type": "code",
   "execution_count": 1,
   "metadata": {},
   "outputs": [],
   "source": [
    "import numpy as np\n",
    "import math\n",
    "import os\n",
    "import gdal\n",
    "import xarray as xr\n",
    "from skimage.measure import block_reduce\n",
    "from ftplib import FTP\n",
    "import subprocess\n",
    "import rioxarray\n",
    "import time as T\n",
    "import datetime\n",
    "import ephem\n",
    "\n",
    "def calc_sunpos(dtime):\n",
    "    sun = ephem.Sun()\n",
    "    obs = ephem.Observer()\n",
    "    obs.date = dtime\n",
    "    obs.lat = site[0]*math.pi/180.0\n",
    "    obs.long = site[1]*math.pi/180.0\n",
    "    sun.compute(obs)\n",
    "    return np.degrees(sun.az),90.0-np.degrees(sun.alt)\n",
    "class SGLI_L2_Downloader:\n",
    "    \n",
    "    def __init__ (self, User_ID , ProductName, Ver, Date , Tile , Obrit ,ParaVer, Target_path):\n",
    "        self.User_ID = User_ID\n",
    "        self.ProductName = ProductName\n",
    "        self.Ver = Ver\n",
    "        self.Date = Date\n",
    "        self.Tile = Tile\n",
    "        self.Obrit = Obrit\n",
    "        self.ParaVer = ParaVer\n",
    "        self.Target_path = Target_path\n",
    "        \n",
    "        \n",
    "    def path (self):\n",
    "        return '/standard/GCOM-C/GCOM-C.SGLI/L2.LAND.{}/{}/{}/{}/{}'.format(self.ProductName, self.Ver, self.Date[0:4], self.Date[4:6], self.Date[6:8])\n",
    "\n",
    "    def filename (self):\n",
    "        return 'GC1SG1_{}{}01D_T{}_L2SG_{}Q_{}00{}.h5'.format(self.Date, self.Obrit, self.Tile, self.ProductName, self.Ver, self.ParaVer)\n",
    "    \n",
    "    def login (self):\n",
    "        ftp_addr = 'ftp.gportal.jaxa.jp'\n",
    "        f = FTP(ftp_addr)\n",
    "        f.login(self.User_ID,'anonymous')\n",
    "        \n",
    "        return f\n",
    "    \n",
    "    def download (self, f):\n",
    "        remote_filepath = self.path()\n",
    "        f.cwd(remote_filepath)\n",
    "        list=f.nlst()\n",
    "        \n",
    "        bufsize=1024\n",
    "        if self.filename() in list:\n",
    "            data = open ('{}{}'.format(self.Target_path, self.filename()), 'wb')\n",
    "            filename = 'RETR ' + self.filename()\n",
    "            f.retrbinary(filename,data.write,bufsize)\n",
    "            return 'y'\n",
    "        else:\n",
    "            return 'n'\n",
    "    \n",
    "    def logout (self, f):\n",
    "        f.quit()\n",
    "    \n",
    "def reporjection_GEO(filename,Band,Target_path):\n",
    "    \n",
    "    #print(path)\n",
    "    subprocess.check_output('/media/liwei/Data/GCOM-C_RSRF/SGLI_geo_map_linux.exe {} -d Geometry_data/{} -o {} -s 7.5'.format(filename,Band,Target_path[:-1]), shell=True) \n",
    "    \n",
    "def mkdir(path):\n",
    "    folder = os.path.exists(path) \n",
    "    if not folder:\n",
    "        os.makedirs(path)\n",
    "        \n",
    "    \n",
    "def SGLI_2_AHI_GEO(filepath):\n",
    "    geotiff_da = rioxarray.open_rasterio(filepath)\n",
    "    data = geotiff_da.interp(x=lon_y,y=lat_x,method=\"nearest\")\n",
    "    data = np.where(data != -32768, data ,np.nan)\n",
    "    data = data * 0.01\n",
    "    data = data.reshape(24,24)\n",
    "#     data = block_reduce(data, block_size=(2,2), func=np.nanmean)\n",
    "    return data\n",
    "\n",
    "def SGLI_2_AHI_TIME(filepath):\n",
    "    geotiff_da = rioxarray.open_rasterio(filepath)\n",
    "    data = geotiff_da.interp(x=lon_y,y=lat_x,method=\"nearest\")\n",
    "    data = np.where(data != -32768, data ,np.nan)\n",
    "    data = data * 0.001\n",
    "    data = data.reshape(24,24)\n",
    "#     data = block_reduce(data, block_size=(2,2), func=np.nanmean)\n",
    "    return data\n",
    "\n",
    "\n",
    "def month_size(month,YYYY):\n",
    "    big_month=['01','03','05','07','08','10','12']\n",
    "    small_month=['04','06','09','11']\n",
    "    if month in big_month:\n",
    "        s = 31\n",
    "    elif month in small_month:\n",
    "        s = 30\n",
    "    elif month == '02':\n",
    "        if (int(YYYY) % 4 == 0 and int(YYYY) % 100 != 0) or int(YYYY) % 400 == 0:\n",
    "            s = 29\n",
    "        else:\n",
    "            s = 28\n",
    "    return s\n",
    "\n",
    "def get_site_range(lat,lon):\n",
    "    crow = int(60 - lat) / 0.04\n",
    "    ccol = int(lon - 85) / 0.04\n",
    "    return int(crow-2),int(crow+2),int(ccol-2),int(ccol+2)\n",
    "\n",
    "def download_tile(date,save_tile_path,tile):\n",
    "    g = SGLI_L2_Downloader(\n",
    "        'galiwei ' ,\n",
    "        'RSRF', \n",
    "        '3', \n",
    "         date , \n",
    "         tile, \n",
    "        'D' , \n",
    "        '1' ,\n",
    "         save_tile_path\n",
    "        )\n",
    "    f = g.login()\n",
    "    \n",
    "    if os.path.exists(save_tile_path + g.filename()):\n",
    "        return g.filename()\n",
    "    \n",
    "    else :\n",
    "        rc = g.download(f)\n",
    "        if rc == 'n':\n",
    "            g.logout(f)\n",
    "            return 'n'\n",
    "        else:\n",
    "            g.logout(f)\n",
    "            return g.filename()\n",
    "    \n",
    "def download_AHI(target_path , date, time, angle):\n",
    "    \n",
    "    date1 = date[0:6]\n",
    "    date2 = date\n",
    "    AHI_date = date2 + time\n",
    "    sza_file_name = '{}.sun.zth.fld.4km.bin.bz2'.format(AHI_date)\n",
    "    saa_file_name = '{}.sun.azm.fld.4km.bin.bz2'.format(AHI_date)\n",
    "    \n",
    "    \n",
    "    if angle == 'sza':\n",
    "        if os.path.exists(target_path + sza_file_name[:-4]):\n",
    "            return sza_file_name[:-4]\n",
    "    \n",
    "        else:\n",
    "            ftp = FTP()\n",
    "            ftp.connect('hmwr829gr.cr.chiba-u.ac.jp', 21)\n",
    "            ftp.login()\n",
    "            path = '/gridded/FD/V20190123/{}/4KM/{}/'.format(date1,date2)\n",
    "            ftp.cwd(path)\n",
    "            remote_list=ftp.nlst()\n",
    "            bufsize=1024*1024\n",
    "            if sza_file_name in remote_list:\n",
    "                data = open(target_path + sza_file_name,'wb')\n",
    "                filename='RETR '+ sza_file_name\n",
    "                ftp.retrbinary(filename,data.write,bufsize)\n",
    "                ftp.quit()\n",
    "\n",
    "                return sza_file_name[:-4]\n",
    "            else:\n",
    "#                 print('AHI NO DATA')\n",
    "                return None\n",
    "        \n",
    "    elif angle == 'saa':\n",
    "        if os.path.exists(target_path + saa_file_name[:-4]):\n",
    "            return saa_file_name[:-4]\n",
    "    \n",
    "        else:\n",
    "            ftp = FTP()\n",
    "            ftp.connect('hmwr829gr.cr.chiba-u.ac.jp', 21)\n",
    "            ftp.login()\n",
    "            path = '/gridded/FD/V20190123/{}/4KM/{}/'.format(date1,date2)\n",
    "            ftp.cwd(path)\n",
    "            remote_list=ftp.nlst()\n",
    "            bufsize=1024*1024\n",
    "            if saa_file_name in remote_list:\n",
    "                data = open(target_path + saa_file_name,'wb')\n",
    "                filename='RETR '+ saa_file_name\n",
    "                ftp.retrbinary(filename,data.write,bufsize)\n",
    "                ftp.quit()\n",
    "                return saa_file_name[:-4]\n",
    "            else:\n",
    "#                 print('AHI NO DATA')\n",
    "                return None\n",
    "    \n",
    "def Decompression(t,fn):\n",
    "    if os.path.exists('{}.bz2'.format(t + fn)):\n",
    "        p = subprocess.Popen('lbzip2 -d {}.bz2'.format(t + fn),shell=True)\n",
    "        p.communicate()\n",
    "        \n",
    "def ahi_lon_timeoffset(lon): \n",
    "    lon_interval = 15 \n",
    "    UTC_e_lon = lon_interval / 2 \n",
    "    timeoffset = math.ceil((lon - UTC_e_lon) / lon_interval) \n",
    "    return timeoffset "
   ]
  },
  {
   "cell_type": "code",
   "execution_count": 49,
   "metadata": {},
   "outputs": [],
   "source": [
    "YYYY='2021'\n",
    "\n",
    "# MM = ['11','12']\n",
    "if YYYY == '2020':\n",
    "    MM = ['07','08','09','10','11','12']\n",
    "else:\n",
    "    MM = ['01','02','03','04','05','06']\n",
    "\n",
    "# MM = ['05','06']\n",
    "DD=['01','02','03','04','05','06','07','08','09','10',\\\n",
    "    '11','12','13','14','15','16','17','18','19','20',\\\n",
    "    '21','22','23','24','25','26','27','28','29','30',\\\n",
    "    '31']\n",
    "HH=['09','10','11']\n",
    "MIN=['00','10','20','30','40','50']\n",
    "\n",
    "band = ['Solar_azimuth_PL', 'Solar_zenith_PL','Sensor_zenith_PL', 'Sensor_azimuth_PL','Obs_time_PL']\n",
    "\n",
    "\n",
    "# site_name = 'ROI 1 test1'\n",
    "# site = [-37.9,177.8] # ROI 1\n",
    "# tile = '1232'\n",
    "\n",
    "# site_name = 'ROI 1 test2'\n",
    "# site = [-38.3,177] # ROI 1\n",
    "# tile = '1231'\n",
    "\n",
    "\n",
    "# site_name = 'test 2'\n",
    "# site = [51.2,157,1] # ROI 1\n",
    "# tile = '0327'\n",
    "\n",
    "# site_name = 'test 1'\n",
    "# site = [16.75,96.5] # ROI 1\n",
    "# tile = '0727'\n",
    "\n",
    "\n",
    "# site_name = 'ROI 1'\n",
    "# site = [-38.5,177] # ROI 1\n",
    "# tile = '1231'\n",
    "\n",
    "# site_name = 'ROI 2'\n",
    "# site = [-44.5,170.5] # ROI 2\n",
    "# tile = '1330'\n",
    "\n",
    "\n",
    "# site_name = 'ROI 3'\n",
    "# site = [27,96.5] # ROI 3\n",
    "# tile = '0626'# ROI 3\n",
    "\n",
    "\n",
    "# site_name = 'ROI 4'\n",
    "# site = [32.5,96.5]\n",
    "# tile = '0526'\n",
    "\n",
    "\n",
    "# site_name = 'ROI 5'\n",
    "# site = [39.5,107]\n",
    "# tile = '0526'\n",
    "\n",
    "# site_name = 'ROI 6'\n",
    "# site = [46,114]\n",
    "# tile = '0425'\n",
    "\n",
    "# site_name = 'ROI 7'\n",
    "# site = [35.328,99.052]\n",
    "# tile = '0526'\n",
    "\n",
    "# site_name = 'ROI 8'\n",
    "# site = [42.990,107.043]\n",
    "# tile = '0425'\n",
    "\n",
    "# site_name = 'ROI 8'\n",
    "# site = [41.3,106.5]\n",
    "# tile = '0425'\n",
    "\n",
    "# site_name = 'ROI 9'\n",
    "# site = [41.7,104.6]\n",
    "# tile = '0425'\n",
    "\n",
    "\n",
    "site_name = 'ROI 10'\n",
    "site = [49.6,119.4]\n",
    "tile = '0425'\n",
    "\n",
    "# jet = ahi_lon_timeoffset(site[1])\n",
    "\n",
    "MATCH_RESULT = []\n",
    "#Save path\n",
    "reporjection_file = '/media/liwei/Data/GCOM-C_RSRF_Valid/reporjection/'\n",
    "tile_file = '/media/liwei/Data/GCOM-C_RSRF_Valid/tile/'\n",
    "AHI_SAA_t = '/media/liwei/Data/AHI_Angle/Solar_azimuth_angle/'\n",
    "AHI_SZA_t = '/media/liwei/Data/AHI_Angle/Solar_zenith_angle/'\n",
    "\n",
    "\n",
    "\n",
    "urow,drow,lcol,rcol = get_site_range(site[0],site[1])\n",
    "lat_x=np.linspace(site[0]+0.06,site[0]-0.055,24)\n",
    "lon_y=np.linspace(site[1]-0.06,site[1]+0.055,24)\n",
    "\n",
    "\n",
    "# AHI VZA/VAA Load\n",
    "with open('/media/liwei/Data/AHI_Angle/AHI_VZA.dat','rb') as fp:\n",
    "    AHI_VZA = np.frombuffer(fp.read()).reshape(3000,3000)[urow:drow,lcol:rcol]\n",
    "AHI_VZA = np.nanmean(AHI_VZA)\n",
    "with open('/media/liwei/Data/AHI_Angle/AHI_VAA.dat','rb') as fp:\n",
    "    AHI_VAA = np.frombuffer(fp.read()).reshape(3000,3000)[urow:drow,lcol:rcol]\n",
    "AHI_VAA = np.nanmean(AHI_VAA)"
   ]
  },
  {
   "cell_type": "code",
   "execution_count": 50,
   "metadata": {
    "scrolled": false
   },
   "outputs": [
    {
     "name": "stdout",
     "output_type": "stream",
     "text": [
      "20210101\n",
      "20210102\n",
      "20210103\n",
      "20210104\n",
      "20210105\n"
     ]
    },
    {
     "name": "stderr",
     "output_type": "stream",
     "text": [
      "/tmp/ipykernel_1574303/3662013066.py:34: RuntimeWarning: Mean of empty slice\n",
      "  SGLI_VZA_PL = np.nanmean(SGLI_VZA_PL)\n",
      "/tmp/ipykernel_1574303/3662013066.py:34: RuntimeWarning: Mean of empty slice\n",
      "  SGLI_VZA_PL = np.nanmean(SGLI_VZA_PL)\n"
     ]
    },
    {
     "name": "stdout",
     "output_type": "stream",
     "text": [
      "20210106\n",
      "20210107\n",
      "20210108\n"
     ]
    },
    {
     "name": "stderr",
     "output_type": "stream",
     "text": [
      "/tmp/ipykernel_1574303/3662013066.py:34: RuntimeWarning: Mean of empty slice\n",
      "  SGLI_VZA_PL = np.nanmean(SGLI_VZA_PL)\n"
     ]
    },
    {
     "name": "stdout",
     "output_type": "stream",
     "text": [
      "20210109\n",
      "20210110\n",
      "20210111\n",
      "20210112\n"
     ]
    },
    {
     "name": "stderr",
     "output_type": "stream",
     "text": [
      "/tmp/ipykernel_1574303/3662013066.py:34: RuntimeWarning: Mean of empty slice\n",
      "  SGLI_VZA_PL = np.nanmean(SGLI_VZA_PL)\n"
     ]
    },
    {
     "name": "stdout",
     "output_type": "stream",
     "text": [
      "['AHI TIME:2021-01-12 03:20:00', 'SGLI TIME:2021-01-12 03:25:00', 'TIME DIFF:0:05:00', 'VZA Matching:4.944115246065721', 'SZA Matching:0.6268580443321099', 'RAA Matching:9.680284792309834', 'AHI_RAA:14.942126470331601 SGLI_RAA:5.261841678021767', 'AHI_SZA:72.518798828125 SGLI_SZA:71.89194078379289', 'AHI_VZA:60.91446246828794 SGLI_VZA:55.970347222222216', '']\n",
      "20210113\n",
      "20210114\n",
      "20210115\n",
      "20210116\n",
      "20210117\n"
     ]
    },
    {
     "name": "stderr",
     "output_type": "stream",
     "text": [
      "/tmp/ipykernel_1574303/3662013066.py:34: RuntimeWarning: Mean of empty slice\n",
      "  SGLI_VZA_PL = np.nanmean(SGLI_VZA_PL)\n"
     ]
    },
    {
     "name": "stdout",
     "output_type": "stream",
     "text": [
      "20210118\n",
      "20210119\n",
      "20210120\n",
      "20210121\n",
      "20210122\n",
      "20210123\n"
     ]
    },
    {
     "name": "stderr",
     "output_type": "stream",
     "text": [
      "/tmp/ipykernel_1574303/3662013066.py:34: RuntimeWarning: Mean of empty slice\n",
      "  SGLI_VZA_PL = np.nanmean(SGLI_VZA_PL)\n",
      "/tmp/ipykernel_1574303/3662013066.py:34: RuntimeWarning: Mean of empty slice\n",
      "  SGLI_VZA_PL = np.nanmean(SGLI_VZA_PL)\n"
     ]
    },
    {
     "name": "stdout",
     "output_type": "stream",
     "text": [
      "20210124\n",
      "20210125\n",
      "20210126\n",
      "20210127\n"
     ]
    },
    {
     "name": "stderr",
     "output_type": "stream",
     "text": [
      "/tmp/ipykernel_1574303/3662013066.py:34: RuntimeWarning: Mean of empty slice\n",
      "  SGLI_VZA_PL = np.nanmean(SGLI_VZA_PL)\n"
     ]
    },
    {
     "name": "stdout",
     "output_type": "stream",
     "text": [
      "['AHI TIME:2021-01-27 03:20:00', 'SGLI TIME:2021-01-27 03:28:00', 'TIME DIFF:0:08:00', 'VZA Matching:4.202014551621268', 'SZA Matching:0.7470704272470527', 'RAA Matching:9.039314359641395', 'AHI_RAA:13.316516118769101 SGLI_RAA:4.277201759127706', 'AHI_SZA:69.52379608154297 SGLI_SZA:68.77672565429592', 'AHI_VZA:60.91446246828794 SGLI_VZA:56.71244791666667', '']\n",
      "20210128\n",
      "20210129\n",
      "20210130\n",
      "20210131\n",
      "20210201\n",
      "20210202\n"
     ]
    },
    {
     "name": "stderr",
     "output_type": "stream",
     "text": [
      "/tmp/ipykernel_1574303/3662013066.py:34: RuntimeWarning: Mean of empty slice\n",
      "  SGLI_VZA_PL = np.nanmean(SGLI_VZA_PL)\n"
     ]
    },
    {
     "name": "stdout",
     "output_type": "stream",
     "text": [
      "20210203\n",
      "20210204\n",
      "20210205\n",
      "20210206\n",
      "20210207\n"
     ]
    },
    {
     "name": "stderr",
     "output_type": "stream",
     "text": [
      "/tmp/ipykernel_1574303/3662013066.py:34: RuntimeWarning: Mean of empty slice\n",
      "  SGLI_VZA_PL = np.nanmean(SGLI_VZA_PL)\n",
      "/tmp/ipykernel_1574303/3662013066.py:34: RuntimeWarning: Mean of empty slice\n",
      "  SGLI_VZA_PL = np.nanmean(SGLI_VZA_PL)\n"
     ]
    },
    {
     "name": "stdout",
     "output_type": "stream",
     "text": [
      "['AHI TIME:2021-02-07 03:10:00', 'SGLI TIME:2021-02-07 03:36:00', 'TIME DIFF:0:26:00', 'VZA Matching:1.5304346905101625', 'SZA Matching:1.4822886512072984', 'RAA Matching:7.789283258766545', 'AHI_RAA:9.808947759394101 SGLI_RAA:2.019664500627556', 'AHI_SZA:66.92243957519531 SGLI_SZA:65.44015092398801', 'AHI_VZA:60.91446246828794 SGLI_VZA:59.384027777777774', '']\n",
      "20210208\n",
      "20210209\n",
      "20210210\n"
     ]
    },
    {
     "name": "stderr",
     "output_type": "stream",
     "text": [
      "/tmp/ipykernel_1574303/3662013066.py:34: RuntimeWarning: Mean of empty slice\n",
      "  SGLI_VZA_PL = np.nanmean(SGLI_VZA_PL)\n"
     ]
    },
    {
     "name": "stdout",
     "output_type": "stream",
     "text": [
      "20210211\n",
      "['AHI TIME:2021-02-11 03:20:00', 'SGLI TIME:2021-02-11 03:30:00', 'TIME DIFF:0:10:00', 'VZA Matching:3.356163857176824', 'SZA Matching:0.8375333065540786', 'RAA Matching:9.088080363387576', 'AHI_RAA:12.113757329706601 SGLI_RAA:3.0256769663190255', 'AHI_SZA:65.2059097290039 SGLI_SZA:64.36837642244983', 'AHI_VZA:60.91446246828794 SGLI_VZA:57.55829861111111', '']\n",
      "20210212\n",
      "20210213\n",
      "20210214\n",
      "20210215\n",
      "20210216\n",
      "20210217\n"
     ]
    },
    {
     "name": "stderr",
     "output_type": "stream",
     "text": [
      "/tmp/ipykernel_1574303/3662013066.py:34: RuntimeWarning: Mean of empty slice\n",
      "  SGLI_VZA_PL = np.nanmean(SGLI_VZA_PL)\n"
     ]
    },
    {
     "name": "stdout",
     "output_type": "stream",
     "text": [
      "20210218\n",
      "20210219\n",
      "20210220\n",
      "20210221\n"
     ]
    },
    {
     "name": "stderr",
     "output_type": "stream",
     "text": [
      "/tmp/ipykernel_1574303/3662013066.py:34: RuntimeWarning: Mean of empty slice\n",
      "  SGLI_VZA_PL = np.nanmean(SGLI_VZA_PL)\n"
     ]
    },
    {
     "name": "stdout",
     "output_type": "stream",
     "text": [
      "20210222\n",
      "20210223\n",
      "20210224\n",
      "20210225\n"
     ]
    },
    {
     "name": "stderr",
     "output_type": "stream",
     "text": [
      "/tmp/ipykernel_1574303/3662013066.py:34: RuntimeWarning: Mean of empty slice\n",
      "  SGLI_VZA_PL = np.nanmean(SGLI_VZA_PL)\n",
      "/tmp/ipykernel_1574303/3662013066.py:34: RuntimeWarning: Mean of empty slice\n",
      "  SGLI_VZA_PL = np.nanmean(SGLI_VZA_PL)\n"
     ]
    },
    {
     "name": "stdout",
     "output_type": "stream",
     "text": [
      "20210226\n",
      "['AHI TIME:2021-02-26 03:10:00', 'SGLI TIME:2021-02-26 03:33:00', 'TIME DIFF:0:23:00', 'VZA Matching:2.404618718287942', 'SZA Matching:1.4399934276786581', 'RAA Matching:7.721307372293978', 'AHI_RAA:8.615924077753476 SGLI_RAA:0.894616705459498', 'AHI_SZA:60.406089782714844 SGLI_SZA:58.966096355036186', 'AHI_VZA:60.91446246828794 SGLI_VZA:58.509843749999995', '']\n",
      "20210227\n",
      "20210228\n",
      "20210301\n",
      "20210302\n"
     ]
    },
    {
     "name": "stderr",
     "output_type": "stream",
     "text": [
      "/tmp/ipykernel_1574303/3662013066.py:34: RuntimeWarning: Mean of empty slice\n",
      "  SGLI_VZA_PL = np.nanmean(SGLI_VZA_PL)\n"
     ]
    },
    {
     "name": "stdout",
     "output_type": "stream",
     "text": [
      "['AHI TIME:2021-03-02 03:30:00', 'SGLI TIME:2021-03-02 03:27:00', 'TIME DIFF:0:03:00', 'VZA Matching:4.161476357176824', 'SZA Matching:0.3240380811994825', 'RAA Matching:8.001269547470088', 'AHI_RAA:14.184146123651914 SGLI_RAA:6.182876576181826', 'AHI_SZA:57.98996353149414 SGLI_SZA:57.66592545029466', 'AHI_VZA:60.91446246828794 SGLI_VZA:56.75298611111111', '']\n",
      "20210303\n",
      "20210304\n",
      "20210305\n",
      "20210306\n",
      "20210307\n"
     ]
    },
    {
     "name": "stderr",
     "output_type": "stream",
     "text": [
      "/tmp/ipykernel_1574303/3662013066.py:34: RuntimeWarning: Mean of empty slice\n",
      "  SGLI_VZA_PL = np.nanmean(SGLI_VZA_PL)\n"
     ]
    },
    {
     "name": "stdout",
     "output_type": "stream",
     "text": [
      "20210308\n",
      "20210309\n",
      "20210310\n",
      "20210311\n",
      "20210312\n"
     ]
    },
    {
     "name": "stderr",
     "output_type": "stream",
     "text": [
      "/tmp/ipykernel_1574303/3662013066.py:34: RuntimeWarning: Mean of empty slice\n",
      "  SGLI_VZA_PL = np.nanmean(SGLI_VZA_PL)\n",
      "/tmp/ipykernel_1574303/3662013066.py:34: RuntimeWarning: Mean of empty slice\n",
      "  SGLI_VZA_PL = np.nanmean(SGLI_VZA_PL)\n"
     ]
    },
    {
     "name": "stdout",
     "output_type": "stream",
     "text": [
      "20210313\n",
      "['AHI TIME:2021-03-13 03:20:00', 'SGLI TIME:2021-03-13 03:35:00', 'TIME DIFF:0:15:00', 'VZA Matching:1.418056218287937', 'SZA Matching:1.0216582807421801', 'RAA Matching:9.758543732813223', 'AHI_RAA:11.155001836542539 SGLI_RAA:1.3964581037293158', 'AHI_SZA:54.07124328613281 SGLI_SZA:53.04958500539063', 'AHI_VZA:60.91446246828794 SGLI_VZA:59.49640625', '']\n",
      "20210314\n",
      "20210315\n",
      "20210316\n",
      "20210317\n"
     ]
    },
    {
     "name": "stderr",
     "output_type": "stream",
     "text": [
      "/tmp/ipykernel_1574303/3662013066.py:34: RuntimeWarning: Mean of empty slice\n",
      "  SGLI_VZA_PL = np.nanmean(SGLI_VZA_PL)\n"
     ]
    },
    {
     "name": "stdout",
     "output_type": "stream",
     "text": [
      "['AHI TIME:2021-03-17 03:20:00', 'SGLI TIME:2021-03-17 03:30:00', 'TIME DIFF:0:10:00', 'VZA Matching:3.248629134954612', 'SZA Matching:0.8457542187314928', 'RAA Matching:7.849493563305629', 'AHI_RAA:11.141101079706601 SGLI_RAA:3.2916075164009726', 'AHI_SZA:52.466712951660156 SGLI_SZA:51.62095873292866', 'AHI_VZA:60.91446246828794 SGLI_VZA:57.665833333333325', '']\n",
      "20210318\n",
      "20210319\n",
      "20210320\n",
      "20210321\n"
     ]
    },
    {
     "name": "stderr",
     "output_type": "stream",
     "text": [
      "/tmp/ipykernel_1574303/3662013066.py:34: RuntimeWarning: Mean of empty slice\n",
      "  SGLI_VZA_PL = np.nanmean(SGLI_VZA_PL)\n"
     ]
    },
    {
     "name": "stdout",
     "output_type": "stream",
     "text": [
      "['AHI TIME:2021-03-21 03:20:00', 'SGLI TIME:2021-03-21 03:24:00', 'TIME DIFF:0:04:00', 'VZA Matching:4.934149968287933', 'SZA Matching:0.6081456102125031', 'RAA Matching:2.185171461280106', 'AHI_RAA:11.143710332636289 SGLI_RAA:8.958538871356183', 'AHI_SZA:50.85832977294922 SGLI_SZA:50.250184162736716', 'AHI_VZA:60.91446246828794 SGLI_VZA:55.980312500000004', '']\n",
      "20210322\n",
      "20210323\n",
      "20210324\n",
      "20210325\n",
      "20210326\n"
     ]
    },
    {
     "name": "stderr",
     "output_type": "stream",
     "text": [
      "/tmp/ipykernel_1574303/3662013066.py:34: RuntimeWarning: Mean of empty slice\n",
      "  SGLI_VZA_PL = np.nanmean(SGLI_VZA_PL)\n"
     ]
    },
    {
     "name": "stdout",
     "output_type": "stream",
     "text": [
      "20210327\n",
      "20210328\n",
      "20210329\n",
      "20210330\n",
      "20210331\n"
     ]
    },
    {
     "name": "stderr",
     "output_type": "stream",
     "text": [
      "/tmp/ipykernel_1574303/3662013066.py:34: RuntimeWarning: Mean of empty slice\n",
      "  SGLI_VZA_PL = np.nanmean(SGLI_VZA_PL)\n",
      "/tmp/ipykernel_1574303/3662013066.py:34: RuntimeWarning: Mean of empty slice\n",
      "  SGLI_VZA_PL = np.nanmean(SGLI_VZA_PL)\n"
     ]
    },
    {
     "name": "stdout",
     "output_type": "stream",
     "text": [
      "20210401\n",
      "['AHI TIME:2021-04-01 03:10:00', 'SGLI TIME:2021-04-01 03:32:00', 'TIME DIFF:0:22:00', 'VZA Matching:2.3004867738435024', 'SZA Matching:1.4042332425136834', 'RAA Matching:7.352061703046559', 'AHI_RAA:7.839739995722226 SGLI_RAA:0.48767829267566754', 'AHI_SZA:46.97309112548828 SGLI_SZA:45.5688578829746', 'AHI_VZA:60.91446246828794 SGLI_VZA:58.613975694444434', '']\n",
      "20210402\n",
      "20210403\n",
      "20210404\n",
      "20210405\n"
     ]
    },
    {
     "name": "stderr",
     "output_type": "stream",
     "text": [
      "/tmp/ipykernel_1574303/3662013066.py:34: RuntimeWarning: Mean of empty slice\n",
      "  SGLI_VZA_PL = np.nanmean(SGLI_VZA_PL)\n"
     ]
    },
    {
     "name": "stdout",
     "output_type": "stream",
     "text": [
      "['AHI TIME:2021-04-05 03:30:00', 'SGLI TIME:2021-04-05 03:26:00', 'TIME DIFF:0:04:00', 'VZA Matching:4.0732819127323765', 'SZA Matching:0.27904811813371566', 'RAA Matching:8.710298353602099', 'AHI_RAA:14.695559697870664 SGLI_RAA:5.985261344268565', 'AHI_SZA:44.512149810791016 SGLI_SZA:44.2331016926573', 'AHI_VZA:60.91446246828794 SGLI_VZA:56.84118055555556', '']\n",
      "20210406\n",
      "20210407\n",
      "20210408\n",
      "20210409\n",
      "20210410\n",
      "20210411\n"
     ]
    },
    {
     "name": "stderr",
     "output_type": "stream",
     "text": [
      "/tmp/ipykernel_1574303/3662013066.py:34: RuntimeWarning: Mean of empty slice\n",
      "  SGLI_VZA_PL = np.nanmean(SGLI_VZA_PL)\n"
     ]
    },
    {
     "name": "stdout",
     "output_type": "stream",
     "text": [
      "20210412\n",
      "20210413\n"
     ]
    },
    {
     "name": "stderr",
     "output_type": "stream",
     "text": [
      "/tmp/ipykernel_1574303/3662013066.py:34: RuntimeWarning: Mean of empty slice\n",
      "  SGLI_VZA_PL = np.nanmean(SGLI_VZA_PL)\n"
     ]
    },
    {
     "name": "stdout",
     "output_type": "stream",
     "text": [
      "20210414\n",
      "20210415\n",
      "20210416\n"
     ]
    },
    {
     "name": "stderr",
     "output_type": "stream",
     "text": [
      "/tmp/ipykernel_1574303/3662013066.py:34: RuntimeWarning: Mean of empty slice\n",
      "  SGLI_VZA_PL = np.nanmean(SGLI_VZA_PL)\n"
     ]
    },
    {
     "name": "stdout",
     "output_type": "stream",
     "text": [
      "['AHI TIME:2021-04-16 03:20:00', 'SGLI TIME:2021-04-16 03:35:00', 'TIME DIFF:0:15:00', 'VZA Matching:1.3208339960657014', 'SZA Matching:0.9920150428599541', 'RAA Matching:8.542468019953589', 'AHI_RAA:11.160906987909726 SGLI_RAA:2.6184389679561377', 'AHI_SZA:40.80696105957031 SGLI_SZA:39.81494601671036', 'AHI_VZA:60.91446246828794 SGLI_VZA:59.593628472222235', '']\n",
      "20210417\n",
      "20210418\n",
      "20210419\n",
      "20210420\n"
     ]
    },
    {
     "name": "stderr",
     "output_type": "stream",
     "text": [
      "/tmp/ipykernel_1574303/3662013066.py:34: RuntimeWarning: Mean of empty slice\n",
      "  SGLI_VZA_PL = np.nanmean(SGLI_VZA_PL)\n"
     ]
    },
    {
     "name": "stdout",
     "output_type": "stream",
     "text": [
      "['AHI TIME:2021-04-20 03:20:00', 'SGLI TIME:2021-04-20 03:29:00', 'TIME DIFF:0:09:00', 'VZA Matching:3.1643062182879333', 'SZA Matching:0.7944975191239863', 'RAA Matching:8.271900325776954', 'AHI_RAA:11.095645147089414 SGLI_RAA:2.8237448213124594', 'AHI_SZA:39.396610260009766 SGLI_SZA:38.60211274088578', 'AHI_VZA:60.91446246828794 SGLI_VZA:57.75015625', '']\n",
      "20210421\n",
      "20210422\n",
      "20210423\n",
      "20210424\n"
     ]
    },
    {
     "name": "stderr",
     "output_type": "stream",
     "text": [
      "/tmp/ipykernel_1574303/3662013066.py:34: RuntimeWarning: Mean of empty slice\n",
      "  SGLI_VZA_PL = np.nanmean(SGLI_VZA_PL)\n"
     ]
    },
    {
     "name": "stdout",
     "output_type": "stream",
     "text": [
      "['AHI TIME:2021-04-24 03:20:00', 'SGLI TIME:2021-04-24 03:23:00', 'TIME DIFF:0:03:00', 'VZA Matching:4.860729829399041', 'SZA Matching:0.5586645872136202', 'RAA Matching:1.9925106661165444', 'AHI_RAA:11.002612310175351 SGLI_RAA:9.010101644058807', 'AHI_SZA:38.041015625 SGLI_SZA:37.48235103778638', 'AHI_VZA:60.91446246828794 SGLI_VZA:56.053732638888896', '']\n",
      "20210425\n",
      "20210426\n",
      "20210427\n",
      "20210428\n",
      "20210429\n",
      "20210430\n"
     ]
    },
    {
     "name": "stderr",
     "output_type": "stream",
     "text": [
      "/tmp/ipykernel_1574303/3662013066.py:34: RuntimeWarning: Mean of empty slice\n",
      "  SGLI_VZA_PL = np.nanmean(SGLI_VZA_PL)\n"
     ]
    },
    {
     "name": "stdout",
     "output_type": "stream",
     "text": [
      "20210501\n",
      "20210502\n",
      "20210503\n",
      "20210504\n",
      "20210505\n"
     ]
    },
    {
     "name": "stderr",
     "output_type": "stream",
     "text": [
      "/tmp/ipykernel_1574303/3662013066.py:34: RuntimeWarning: Mean of empty slice\n",
      "  SGLI_VZA_PL = np.nanmean(SGLI_VZA_PL)\n",
      "/tmp/ipykernel_1574303/3662013066.py:34: RuntimeWarning: Mean of empty slice\n",
      "  SGLI_VZA_PL = np.nanmean(SGLI_VZA_PL)\n"
     ]
    },
    {
     "name": "stdout",
     "output_type": "stream",
     "text": [
      "['AHI TIME:2021-05-05 03:20:00', 'SGLI TIME:2021-05-05 03:31:00', 'TIME DIFF:0:11:00', 'VZA Matching:2.225000662732384', 'SZA Matching:0.8731064213960167', 'RAA Matching:9.973795763907702', 'AHI_RAA:10.500003057245664 SGLI_RAA:0.5262072933379613', 'AHI_SZA:34.652183532714844 SGLI_SZA:33.77907711131883', 'AHI_VZA:60.91446246828794 SGLI_VZA:58.68946180555555', '']\n",
      "20210506\n",
      "20210507\n",
      "20210508\n",
      "20210509\n"
     ]
    },
    {
     "name": "stderr",
     "output_type": "stream",
     "text": [
      "/tmp/ipykernel_1574303/3662013066.py:34: RuntimeWarning: Mean of empty slice\n",
      "  SGLI_VZA_PL = np.nanmean(SGLI_VZA_PL)\n"
     ]
    },
    {
     "name": "stdout",
     "output_type": "stream",
     "text": [
      "['AHI TIME:2021-05-09 03:30:00', 'SGLI TIME:2021-05-09 03:25:00', 'TIME DIFF:0:05:00', 'VZA Matching:4.00734441273238', 'SZA Matching:0.2282131611089966', 'RAA Matching:7.695478922018879', 'AHI_RAA:14.490679937128476 SGLI_RAA:6.795201015109598', 'AHI_SZA:33.13983917236328 SGLI_SZA:32.911626011254285', 'AHI_VZA:60.91446246828794 SGLI_VZA:56.90711805555556', '']\n",
      "20210510\n",
      "20210511\n",
      "20210512\n",
      "20210513\n",
      "20210514\n",
      "20210515\n"
     ]
    },
    {
     "name": "stderr",
     "output_type": "stream",
     "text": [
      "/tmp/ipykernel_1574303/3662013066.py:34: RuntimeWarning: Mean of empty slice\n",
      "  SGLI_VZA_PL = np.nanmean(SGLI_VZA_PL)\n"
     ]
    },
    {
     "name": "stdout",
     "output_type": "stream",
     "text": [
      "20210516\n",
      "20210517\n",
      "20210518\n",
      "20210519\n",
      "20210520\n"
     ]
    },
    {
     "name": "stderr",
     "output_type": "stream",
     "text": [
      "/tmp/ipykernel_1574303/3662013066.py:34: RuntimeWarning: Mean of empty slice\n",
      "  SGLI_VZA_PL = np.nanmean(SGLI_VZA_PL)\n",
      "/tmp/ipykernel_1574303/3662013066.py:34: RuntimeWarning: Mean of empty slice\n",
      "  SGLI_VZA_PL = np.nanmean(SGLI_VZA_PL)\n"
     ]
    },
    {
     "name": "stdout",
     "output_type": "stream",
     "text": [
      "['AHI TIME:2021-05-20 03:20:00', 'SGLI TIME:2021-05-20 03:34:00', 'TIME DIFF:0:14:00', 'VZA Matching:1.266854182035587', 'SZA Matching:1.0113318312939228', 'RAA Matching:7.7401731050156', 'AHI_RAA:9.167254644159726 SGLI_RAA:1.427081539144126', 'AHI_SZA:31.007259368896484 SGLI_SZA:29.99592753760256', 'AHI_VZA:60.91446246828794 SGLI_VZA:59.64760828625235', '']\n",
      "20210521\n",
      "20210522\n",
      "20210523\n",
      "20210524\n"
     ]
    },
    {
     "name": "stderr",
     "output_type": "stream",
     "text": [
      "/tmp/ipykernel_1574303/3662013066.py:34: RuntimeWarning: Mean of empty slice\n",
      "  SGLI_VZA_PL = np.nanmean(SGLI_VZA_PL)\n"
     ]
    },
    {
     "name": "stdout",
     "output_type": "stream",
     "text": [
      "['AHI TIME:2021-05-24 03:30:00', 'SGLI TIME:2021-05-24 03:28:00', 'TIME DIFF:0:02:00', 'VZA Matching:3.1094971905101545', 'SZA Matching:0.341429001518641', 'RAA Matching:8.356262535457972', 'AHI_RAA:13.278689580683164 SGLI_RAA:4.9224270452251915', 'AHI_SZA:29.800168991088867 SGLI_SZA:29.458739989570226', 'AHI_VZA:60.91446246828794 SGLI_VZA:57.80496527777778', '']\n",
      "20210525\n",
      "20210526\n",
      "20210527\n",
      "20210528\n"
     ]
    },
    {
     "name": "stderr",
     "output_type": "stream",
     "text": [
      "/tmp/ipykernel_1574303/3662013066.py:34: RuntimeWarning: Mean of empty slice\n",
      "  SGLI_VZA_PL = np.nanmean(SGLI_VZA_PL)\n"
     ]
    },
    {
     "name": "stdout",
     "output_type": "stream",
     "text": [
      "['AHI TIME:2021-05-28 03:20:00', 'SGLI TIME:2021-05-28 03:22:00', 'TIME DIFF:0:02:00', 'VZA Matching:4.814063162732381', 'SZA Matching:0.5257965693081488', 'RAA Matching:3.793267806557708', 'AHI_RAA:8.191912847284726 SGLI_RAA:11.985180653842434', 'AHI_SZA:29.608036041259766 SGLI_SZA:29.082239471951617', 'AHI_VZA:60.91446246828794 SGLI_VZA:56.100399305555555', '']\n",
      "20210529\n",
      "20210530\n",
      "20210531\n",
      "20210601\n",
      "20210602\n",
      "20210603\n"
     ]
    },
    {
     "name": "stderr",
     "output_type": "stream",
     "text": [
      "/tmp/ipykernel_1574303/3662013066.py:34: RuntimeWarning: Mean of empty slice\n",
      "  SGLI_VZA_PL = np.nanmean(SGLI_VZA_PL)\n"
     ]
    },
    {
     "name": "stdout",
     "output_type": "stream",
     "text": [
      "20210604\n",
      "20210605\n",
      "20210606\n",
      "20210607\n",
      "20210608\n"
     ]
    },
    {
     "name": "stderr",
     "output_type": "stream",
     "text": [
      "/tmp/ipykernel_1574303/3662013066.py:34: RuntimeWarning: Mean of empty slice\n",
      "  SGLI_VZA_PL = np.nanmean(SGLI_VZA_PL)\n",
      "/tmp/ipykernel_1574303/3662013066.py:34: RuntimeWarning: Mean of empty slice\n",
      "  SGLI_VZA_PL = np.nanmean(SGLI_VZA_PL)\n"
     ]
    },
    {
     "name": "stdout",
     "output_type": "stream",
     "text": [
      "['AHI TIME:2021-06-08 03:30:00', 'SGLI TIME:2021-06-08 03:31:00', 'TIME DIFF:0:01:00', 'VZA Matching:2.1817367738434896', 'SZA Matching:0.46564391973901564', 'RAA Matching:7.818092731403141', 'AHI_RAA:11.464068609003476 SGLI_RAA:3.6459758776003355', 'AHI_SZA:27.86351776123047 SGLI_SZA:27.397873841491453', 'AHI_VZA:60.91446246828794 SGLI_VZA:58.73272569444445', '']\n",
      "20210609\n",
      "20210610\n",
      "20210611\n",
      "20210612\n"
     ]
    },
    {
     "name": "stderr",
     "output_type": "stream",
     "text": [
      "/tmp/ipykernel_1574303/3662013066.py:34: RuntimeWarning: Mean of empty slice\n",
      "  SGLI_VZA_PL = np.nanmean(SGLI_VZA_PL)\n"
     ]
    },
    {
     "name": "stdout",
     "output_type": "stream",
     "text": [
      "['AHI TIME:2021-06-12 03:20:00', 'SGLI TIME:2021-06-12 03:25:00', 'TIME DIFF:0:05:00', 'VZA Matching:3.972205523843499', 'SZA Matching:0.6977573256123932', 'RAA Matching:4.422853979768803', 'AHI_RAA:6.156420903925351 SGLI_RAA:10.579274883694154', 'AHI_SZA:28.125041961669922 SGLI_SZA:27.42728463605753', 'AHI_VZA:60.91446246828794 SGLI_VZA:56.94225694444444', '']\n",
      "20210613\n",
      "20210614\n",
      "20210615\n",
      "20210616\n",
      "20210617\n",
      "20210618\n"
     ]
    },
    {
     "name": "stderr",
     "output_type": "stream",
     "text": [
      "/tmp/ipykernel_1574303/3662013066.py:34: RuntimeWarning: Mean of empty slice\n",
      "  SGLI_VZA_PL = np.nanmean(SGLI_VZA_PL)\n"
     ]
    },
    {
     "name": "stdout",
     "output_type": "stream",
     "text": [
      "20210619\n",
      "20210620\n",
      "20210621\n",
      "20210622\n"
     ]
    },
    {
     "name": "stderr",
     "output_type": "stream",
     "text": [
      "/tmp/ipykernel_1574303/3662013066.py:34: RuntimeWarning: Mean of empty slice\n",
      "  SGLI_VZA_PL = np.nanmean(SGLI_VZA_PL)\n",
      "/tmp/ipykernel_1574303/3662013066.py:34: RuntimeWarning: Mean of empty slice\n",
      "  SGLI_VZA_PL = np.nanmean(SGLI_VZA_PL)\n"
     ]
    },
    {
     "name": "stdout",
     "output_type": "stream",
     "text": [
      "20210623\n",
      "['AHI TIME:2021-06-23 03:30:00', 'SGLI TIME:2021-06-23 03:33:00', 'TIME DIFF:0:03:00', 'VZA Matching:1.2406518956007062', 'SZA Matching:0.5638747408832074', 'RAA Matching:6.608002020658034', 'AHI_RAA:9.669970708612851 SGLI_RAA:3.061968687954817', 'AHI_SZA:27.457557678222656 SGLI_SZA:26.89368293733945', 'AHI_VZA:60.91446246828794 SGLI_VZA:59.67381057268723', '']\n",
      "20210624\n",
      "20210625\n",
      "20210626\n"
     ]
    },
    {
     "name": "stderr",
     "output_type": "stream",
     "text": [
      "/tmp/ipykernel_1574303/3662013066.py:34: RuntimeWarning: Mean of empty slice\n",
      "  SGLI_VZA_PL = np.nanmean(SGLI_VZA_PL)\n"
     ]
    },
    {
     "name": "stdout",
     "output_type": "stream",
     "text": [
      "20210627\n",
      "['AHI TIME:2021-06-27 03:30:00', 'SGLI TIME:2021-06-27 03:28:00', 'TIME DIFF:0:02:00', 'VZA Matching:2.9756430238434888', 'SZA Matching:0.3193751584103808', 'RAA Matching:0.4908077980396399', 'AHI_RAA:9.313098150019101 SGLI_RAA:8.822290351979461', 'AHI_SZA:27.606552124023438 SGLI_SZA:27.287176965613057', 'AHI_VZA:60.91446246828794 SGLI_VZA:57.93881944444445', '']\n",
      "20210628\n",
      "20210629\n",
      "20210630\n"
     ]
    },
    {
     "name": "stderr",
     "output_type": "stream",
     "text": [
      "/tmp/ipykernel_1574303/3662013066.py:34: RuntimeWarning: Mean of empty slice\n",
      "  SGLI_VZA_PL = np.nanmean(SGLI_VZA_PL)\n"
     ]
    }
   ],
   "source": [
    "\n",
    "MATCH_RESULT = []\n",
    "TIME_delta = np.arange(-30,40,10)\n",
    "TIME_MATCH = datetime.timedelta(minutes = 30)\n",
    "for m in range(len(MM)):\n",
    "    s = month_size(MM[m],YYYY)\n",
    "    for d in range(s):\n",
    "        \n",
    "        current_result = []\n",
    "        time_diff_min = datetime.timedelta(hours=5)\n",
    "\n",
    "        date = YYYY+MM[m]+DD[d]\n",
    "        print(date)\n",
    "        \n",
    "#         SGLI file name\n",
    "        SGLI_VZA_filename = 'GC1SG1_{}D01D_T{}_L2SG_RSRFQ_3001_Sensor_zenith_PL.tif'.format(date,tile)\n",
    "        SGLI_VAA_filename = 'GC1SG1_{}D01D_T{}_L2SG_RSRFQ_3001_Sensor_azimuth_PL.tif'.format(date,tile)\n",
    "        SGLI_TIME_filename = 'GC1SG1_{}D01D_T{}_L2SG_RSRFQ_3001_Obs_time_PL.tif'.format(date,tile)\n",
    "        \n",
    "        \n",
    "#         Reporjection file exist\n",
    "        if not os.path.exists(reporjection_file + SGLI_TIME_filename):\n",
    "            \n",
    "#             print('Start SGLI Download and Reporjection.')\n",
    "            fn = download_tile(date,tile_file,tile)\n",
    "            if fn == 'n':\n",
    "                continue\n",
    "            for b in band:\n",
    "                reporjection_GEO( tile_file+fn , b , reporjection_file)\n",
    "#             print('Reporjection Finsihed!')\n",
    "             \n",
    "        if os.path.exists(reporjection_file + SGLI_VZA_filename):       \n",
    "            SGLI_VZA_PL = SGLI_2_AHI_GEO(reporjection_file + SGLI_VZA_filename)\n",
    "            \n",
    "            SGLI_VZA_PL = np.nanmean(SGLI_VZA_PL)\n",
    "            \n",
    "            VZA_Matching_PL = abs(AHI_VZA - SGLI_VZA_PL)\n",
    "            if VZA_Matching_PL <= 5:\n",
    "                SGLI_Obs_time = SGLI_2_AHI_TIME(reporjection_file + SGLI_TIME_filename)\n",
    "                SGLI_Obs_time = np.nanmean(SGLI_Obs_time)\n",
    "                SGLI_MIN = int(round(math.modf(SGLI_Obs_time)[0],3)*60)\n",
    "                SGLI_HH = int(math.modf(SGLI_Obs_time)[1])\n",
    "\n",
    "                dtime = datetime.datetime(int(YYYY),int(MM[m]),int(DD[d]),SGLI_HH,SGLI_MIN)\n",
    "                SGLI_SAA,SGLI_SZA = calc_sunpos(dtime)\n",
    "                AHI_time_old = datetime.datetime.strptime('{}-{}-{} {}:{}'.format(YYYY,MM[m],DD[d],str(SGLI_HH),str(int(round(3/10)))+'0'), '%Y-%m-%d %H:%M')\n",
    "                \n",
    "                for minu in TIME_delta:\n",
    "                    delta = datetime.timedelta(minutes = int(minu))\n",
    "                    d_new = AHI_time_old + delta\n",
    "\n",
    "                    date_new = d_new.strftime('%Y') + d_new.strftime('%m') + d_new.strftime('%d')\n",
    "                    TIME = d_new.strftime('%H') + d_new.strftime('%M')\n",
    "\n",
    "                    AHI_SAA_file_name = download_AHI(AHI_SAA_t , date_new, TIME, 'saa')\n",
    "                    if AHI_SAA_file_name != None:\n",
    "\n",
    "                        Decompression(AHI_SAA_t , AHI_SAA_file_name)\n",
    "    #                     AHI SAA Load\n",
    "                        with open(AHI_SAA_t + AHI_SAA_file_name, 'rb') as fp:\n",
    "                            AHI_SAA = np.frombuffer(fp.read(), dtype='>f4').reshape(3000,3000)[urow:drow,lcol:rcol]\n",
    "                        AHI_SAA = np.mean(AHI_SAA)\n",
    "                    \n",
    "                    \n",
    "                        SGLI_VAA_PL = SGLI_2_AHI_GEO(reporjection_file + SGLI_VAA_filename)\n",
    "                        SGLI_VAA_PL = SGLI_VAA_PL + 180\n",
    "                        SGLI_VAA_PL = np.nanmean(SGLI_VAA_PL)\n",
    "                        \n",
    "                        SGLI_RAA_PL = abs(SGLI_SAA - SGLI_VAA_PL)\n",
    "                        \n",
    "                        if SGLI_RAA_PL > 180:\n",
    "                            SGLI_RAA_PL = 360 - SGLI_RAA_PL\n",
    "\n",
    "                        AHI_RAA = abs(AHI_SAA - AHI_VAA)\n",
    "                        if AHI_RAA > 180:\n",
    "                                AHI_RAA = 360 - AHI_RAA \n",
    "                        \n",
    "                        RAA_Matching = abs(SGLI_RAA_PL - AHI_RAA)\n",
    "#                         print('AHI_SAA:{} SGLI_SAA:{}'.format(AHI_SAA,SGLI_SAA))\n",
    "#                         print('AHI_VAA:{} SGLI_VAA:{}'.format(AHI_VAA,SGLI_VAA_PL))\n",
    "                        if RAA_Matching < 10:\n",
    "                            time_diff = abs(dtime - d_new)\n",
    "\n",
    "                            if time_diff < time_diff_min and time_diff < TIME_MATCH:\n",
    "                                time_diff_min = time_diff\n",
    "            \n",
    "                                AHI_SZA_file_name = download_AHI(AHI_SZA_t , date_new, TIME, 'sza')\n",
    "                                if AHI_SZA_file_name != None:\n",
    "\n",
    "                                    Decompression(AHI_SZA_t,AHI_SZA_file_name)\n",
    "                                    with open(AHI_SZA_t + AHI_SZA_file_name, 'rb') as fp:\n",
    "                                        AHI_SZA = np.frombuffer(fp.read(),dtype='>f4').reshape(3000,3000)[urow:drow,lcol:rcol]\n",
    "                                    AHI_SZA = np.mean(AHI_SZA)\n",
    "                                                        \n",
    "                                current_result = ['AHI TIME:{}'.format(d_new),\n",
    "                                                  'SGLI TIME:{}'.format(dtime),\n",
    "                                                  'TIME DIFF:{}'.format(time_diff_min),\n",
    "                                                  'VZA Matching:{}'.format(VZA_Matching_PL),\n",
    "                                                  'SZA Matching:{}'.format(abs(AHI_SZA - SGLI_SZA)),\n",
    "                                                  'RAA Matching:{}'.format(RAA_Matching),\n",
    "                                                  'AHI_RAA:{} SGLI_RAA:{}'.format(AHI_RAA,SGLI_RAA_PL),\n",
    "                                                  'AHI_SZA:{} SGLI_SZA:{}'.format(AHI_SZA,SGLI_SZA),\n",
    "                                                  'AHI_VZA:{} SGLI_VZA:{}'.format(AHI_VZA,SGLI_VZA_PL),\n",
    "                                                  ''\n",
    "                                                  ]\n",
    "#         print(current_result)\n",
    "        if len(current_result) != 0:\n",
    "            print(current_result)\n",
    "            MATCH_RESULT.append(current_result)\n",
    "                            \n",
    "                            \n",
    "with open(\"{}_{}_PL.txt\".format(site_name,YYYY),\"w\") as f:\n",
    "    for line in MATCH_RESULT:\n",
    "        f.writelines('\\n'.join(line)) \n",
    "        f.writelines('\\n')     "
   ]
  },
  {
   "cell_type": "code",
   "execution_count": 23,
   "metadata": {},
   "outputs": [],
   "source": [
    "with open(\"{}_{}_PL.txt\".format(site_name,YYYY),\"w\") as f:\n",
    "    for line in MATCH_RESULT:\n",
    "        f.writelines('\\n'.join(line)) \n",
    "        f.writelines('\\n') "
   ]
  },
  {
   "cell_type": "code",
   "execution_count": 16,
   "metadata": {},
   "outputs": [
    {
     "data": {
      "text/plain": [
       "[['AHI TIME:2021-03-26 04:10:00',\n",
       "  'SGLI TIME:2021-03-26 04:37:00',\n",
       "  'TIME DIFF:0:27:00',\n",
       "  'VZA Matching:2.758251651483448',\n",
       "  'SZA Matching:3.6626291208979467',\n",
       "  'RAA Matching:9.544501947896109',\n",
       "  'AHI_RAA:22.00741463554631 SGLI_RAA:12.462912687650203',\n",
       "  'AHI_SZA:37.268516540527344 SGLI_SZA:33.6058874196294',\n",
       "  'AHI_VZA:60.99991831815011 SGLI_VZA:58.24166666666666',\n",
       "  ''],\n",
       " ['AHI TIME:2021-04-10 04:20:00',\n",
       "  'SGLI TIME:2021-04-10 04:39:00',\n",
       "  'TIME DIFF:0:19:00',\n",
       "  'VZA Matching:1.5612226659761959',\n",
       "  'SZA Matching:2.7642138788652844',\n",
       "  'RAA Matching:9.86541017655857',\n",
       "  'AHI_RAA:21.955321129686936 SGLI_RAA:12.089910953128367',\n",
       "  'AHI_SZA:30.504444122314453 SGLI_SZA:27.74023024344917',\n",
       "  'AHI_VZA:60.99991831815011 SGLI_VZA:59.43869565217391',\n",
       "  ''],\n",
       " ['AHI TIME:2021-04-14 04:30:00',\n",
       "  'SGLI TIME:2021-04-14 04:33:00',\n",
       "  'TIME DIFF:0:03:00',\n",
       "  'VZA Matching:3.8997794292612085',\n",
       "  'SZA Matching:0.8194820662220295',\n",
       "  'RAA Matching:4.313418189162363',\n",
       "  'AHI_RAA:25.18594246757756 SGLI_RAA:20.8725242784152',\n",
       "  'AHI_SZA:27.84272003173828 SGLI_SZA:27.023237965516252',\n",
       "  'AHI_VZA:60.99991831815011 SGLI_VZA:57.1001388888889',\n",
       "  ''],\n",
       " ['AHI TIME:2021-04-29 04:30:00',\n",
       "  'SGLI TIME:2021-04-29 04:36:00',\n",
       "  'TIME DIFF:0:06:00',\n",
       "  'VZA Matching:2.6503870681501027',\n",
       "  'SZA Matching:1.237704655874353',\n",
       "  'RAA Matching:0.9688866587440401',\n",
       "  'AHI_RAA:20.350462731249436 SGLI_RAA:21.319349389993477',\n",
       "  'AHI_SZA:23.186084747314453 SGLI_SZA:21.9483800914401',\n",
       "  'AHI_VZA:60.99991831815011 SGLI_VZA:58.349531250000005',\n",
       "  '']]"
      ]
     },
     "execution_count": 16,
     "metadata": {},
     "output_type": "execute_result"
    }
   ],
   "source": [
    "MATCH_RESULT"
   ]
  },
  {
   "cell_type": "code",
   "execution_count": null,
   "metadata": {},
   "outputs": [],
   "source": []
  }
 ],
 "metadata": {
  "kernelspec": {
   "display_name": "Python 3 (ipykernel)",
   "language": "python",
   "name": "python3"
  },
  "language_info": {
   "codemirror_mode": {
    "name": "ipython",
    "version": 3
   },
   "file_extension": ".py",
   "mimetype": "text/x-python",
   "name": "python",
   "nbconvert_exporter": "python",
   "pygments_lexer": "ipython3",
   "version": "3.8.10"
  }
 },
 "nbformat": 4,
 "nbformat_minor": 4
}
